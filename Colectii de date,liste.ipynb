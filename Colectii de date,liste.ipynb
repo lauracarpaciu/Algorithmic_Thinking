{
 "cells": [
  {
   "cell_type": "code",
   "execution_count": null,
   "metadata": {},
   "outputs": [],
   "source": [
    "# adaugarea de elemenete\n",
    "l = []\n",
    "i=1\n",
    "for i in range(1,4):\n",
    "    answer = input(\"care este varsta?\")\n",
    "    l.append(answer)\n",
    "\n",
    "\n",
    "print(l)"
   ]
  },
  {
   "cell_type": "code",
   "execution_count": null,
   "metadata": {},
   "outputs": [],
   "source": [
    "# eliminarea de elemente\n",
    "values = [15,20,-150,25,18,20]\n",
    "valid = []\n",
    "i = 0\n",
    "print(len(values))\n",
    "while i in range(0,len(values)):\n",
    "    if i != 2:\n",
    "        valid.append(values[i])\n",
    "    i += 1\n",
    "\n",
    "print(valid)"
   ]
  },
  {
   "cell_type": "code",
   "execution_count": null,
   "metadata": {},
   "outputs": [],
   "source": [
    "# filtrarea elementelor\n",
    "lista = [2500,1800,1500,2000,2400]\n",
    "\n",
    "\n",
    "def filtrare(numbers ,num=0,list=[]):\n",
    "   for num in numbers:\n",
    "        if num < 2400:\n",
    "            list.append(num)\n",
    "        return list\n",
    "\n",
    "\n",
    "print(filtrare(lista))"
   ]
  },
  {
   "cell_type": "code",
   "execution_count": null,
   "metadata": {},
   "outputs": [],
   "source": [
    "# cautarea de elemente\n",
    "years = [2111,2011,2010,2012,2015,2020,2014]\n",
    "l = []\n",
    "# for i in years:\n",
    "#     print(i)\n",
    "#     if i <= (2021 - 8):\n",
    "#         l.append(i)\n",
    "#\n",
    "# print(l)\n",
    "\n",
    "def hasinput(years):\n",
    "     for i in years:\n",
    "        # print(i)\n",
    "        if i <= (2021 - 8):\n",
    "            return True\n",
    "        return False\n",
    "\n",
    "\n",
    "print(hasinput(years))"
   ]
  },
  {
   "cell_type": "code",
   "execution_count": null,
   "metadata": {},
   "outputs": [],
   "source": [
    "# indexul elemnetelor key value\n",
    "scores = [98,100,56,83,96,100,25,64,29,30,31]\n",
    "i = 0\n",
    "while i<=5:\n",
    "    # print(i)\n",
    "    print (scores[i])\n",
    "    i += 1"
   ]
  },
  {
   "cell_type": "code",
   "execution_count": null,
   "metadata": {},
   "outputs": [],
   "source": [
    "# iterare in ordine inversa\n",
    "scores = [55,23,48,30,28,23,20,15,60,20]\n",
    "i = 9\n",
    "\n",
    "while i >= 6:\n",
    "    print(scores[i])\n",
    "    i -= 1"
   ]
  },
  {
   "cell_type": "code",
   "execution_count": null,
   "metadata": {},
   "outputs": [],
   "source": [
    "# gasirea minimului si maximului\n",
    "temp = [9.0, 8.8, 8.9 , 9.2 , 9.0]\n",
    "\n",
    "def min(numbers, minimum = 99999):\n",
    "    l=[]\n",
    "    for num in numbers:\n",
    "         if num < minimum:\n",
    "             minimum = num\n",
    "\n",
    "    return minimum\n",
    "\n",
    "print(min(temp))"
   ]
  },
  {
   "cell_type": "code",
   "execution_count": null,
   "metadata": {},
   "outputs": [],
   "source": [
    "# lungimea colectiilor\n",
    "numbers = [10,20,30,40,50,60,70,80,90]\n",
    "\n",
    "i = 0\n",
    "while i in range(0,len(numbers)):\n",
    "    print(numbers[i])\n",
    "    i += 1"
   ]
  },
  {
   "cell_type": "code",
   "execution_count": null,
   "metadata": {},
   "outputs": [],
   "source": [
    "# operatii de agregare\n",
    "list = [15,30,20,16,22,18]\n",
    "def total(numbers, total=0):\n",
    "    for i in numbers:\n",
    "        total += i\n",
    "    return total\n",
    "\n",
    "print(total(list))\n",
    "\n",
    "list2 = [32,26,28,29,30]\n",
    "def medie(elem, total=0):\n",
    "    for i in elem:\n",
    "        total += i\n",
    "        medie = total/len(elem)\n",
    "    return medie\n",
    "\n",
    "print(medie(list2))\n",
    "\n",
    "\n",
    "list = [ 1990,2005,1997,2002,2010]\n",
    "\n",
    "# operatii de numarare\n",
    "\n",
    "def numarare (numbers, numar=0):\n",
    "    for num in numbers:\n",
    "       if (2022-num ) >= 18:\n",
    "            numar +=1\n",
    "    return numar\n",
    "\n",
    "print(numarare(list))\n",
    "\n",
    "# operatii repetitive\n",
    "\n",
    "prices = [2000,3000,4000,5000,6000,7000,8000,]\n",
    "\n",
    "for i in prices:\n",
    "    e = i*0.19\n",
    "    print(e)"
   ]
  },
  {
   "cell_type": "code",
   "execution_count": null,
   "metadata": {},
   "outputs": [],
   "source": []
  }
 ],
 "metadata": {
  "kernelspec": {
   "display_name": "Python 3",
   "language": "python",
   "name": "python3"
  },
  "language_info": {
   "codemirror_mode": {
    "name": "ipython",
    "version": 3
   },
   "file_extension": ".py",
   "mimetype": "text/x-python",
   "name": "python",
   "nbconvert_exporter": "python",
   "pygments_lexer": "ipython3",
   "version": "3.8.5"
  }
 },
 "nbformat": 4,
 "nbformat_minor": 4
}
