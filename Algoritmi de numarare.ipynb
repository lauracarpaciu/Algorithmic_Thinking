{
 "cells": [
  {
   "cell_type": "code",
   "execution_count": null,
   "metadata": {},
   "outputs": [],
   "source": [
    "varste = [15,20,30,17,24,35,35,35,20,28,40]\n",
    "\n",
    "def getmostfrequrntage(ages, i=0):\n",
    "    maxPeoples = 0\n",
    "    mostFrequrntAge = 0\n",
    "    buchets = []\n",
    "    while i <=140:\n",
    "        buchets.append(0)\n",
    "        i +=1\n",
    "\n",
    "    for age in ages:\n",
    "        buchets[age] +=1\n",
    "        if buchets[age]> maxPeoples:\n",
    "            maxPeoples = buchets[age]\n",
    "            mostFrequrntAge=age\n",
    "\n",
    "    return mostFrequrntAge\n",
    "\n",
    "print(getmostfrequrntage(varste))\n"
   ]
  },
  {
   "cell_type": "code",
   "execution_count": null,
   "metadata": {},
   "outputs": [],
   "source": [
    "def getMostfrequentSymbol(text):\n",
    "    text = \"  \"\n",
    "    maxNumberOfSymbol = 0\n",
    "    mostFrequentSymbol = 0\n",
    "    startIndex = \"A\".isdigit(0)\n",
    "    endIndex = \"z\".isdigit(0)\n",
    "    buckets = []\n",
    "    for i in range(startIndex,endIndex):\n",
    "        buckets[i]=0\n",
    "\n",
    "    for i in range(0,len(text)):\n",
    "        code= text.isdigit(i)\n",
    "        buckets[code] +=1\n",
    "\n",
    "    for i in range(startIndex,endIndex):\n",
    "        if buckets[i]>maxNumberOfSymbol:\n",
    "            maxNumberOfSymbol=buckets[i]\n",
    "            # mostFrequentSymbol=\n",
    "\n",
    "            return maxNumberOfSymbol"
   ]
  },
  {
   "cell_type": "code",
   "execution_count": null,
   "metadata": {},
   "outputs": [],
   "source": [
    "def countingSort(numbers):\n",
    "    counters = []\n",
    "    maxPossibleValues = 100\n",
    "    for i in range(0,maxPossibleValues+1):\n",
    "        counters.append(0)\n",
    "\n",
    "    for number in numbers:\n",
    "        counters[number] +=1\n",
    "\n",
    "    for key in range(0,maxPossibleValues+1):\n",
    "        ocurrences=counters[key]\n",
    "        for i in range(1,ocurrences+1):\n",
    "            print(key)\n",
    "\n",
    "countingSort([1,3,2,1,0,44,22,11])"
   ]
  }
 ],
 "metadata": {
  "kernelspec": {
   "display_name": "Python 3",
   "language": "python",
   "name": "python3"
  }
 },
 "nbformat": 4,
 "nbformat_minor": 4
}
