{
 "cells": [
  {
   "cell_type": "code",
   "execution_count": null,
   "id": "b5a1dbdb",
   "metadata": {},
   "outputs": [],
   "source": [
    "#Adaugarea de elemente\n",
    "\n",
    "l = []\n",
    "\n",
    "i=1\n",
    "\n",
    "for i in range(1,4):\n",
    "    answer = input(\"care este varsta?\")\n",
    "    l.append(answer)\n",
    "\n",
    "print(l)\n"
   ]
  },
  {
   "cell_type": "code",
   "execution_count": 1,
   "id": "01fd4f40",
   "metadata": {},
   "outputs": [
    {
     "name": "stdout",
     "output_type": "stream",
     "text": [
      "6\n",
      "[15, 20, 25, 18, 20]\n"
     ]
    }
   ],
   "source": [
    "#Eliminarea elementelor\n",
    "\n",
    "values = [15,20,-150,25,18,20]\n",
    "valid = []\n",
    "i = 0\n",
    "print(len(values))\n",
    "\n",
    "while i in range(0,len(values)):\n",
    "    if i != 2:\n",
    "        valid.append(values[i])\n",
    "    i += 1\n",
    "\n",
    "print(valid)"
   ]
  },
  {
   "cell_type": "code",
   "execution_count": 3,
   "id": "92659e28",
   "metadata": {},
   "outputs": [
    {
     "name": "stdout",
     "output_type": "stream",
     "text": [
      "False\n"
     ]
    }
   ],
   "source": [
    "#Filtrare elementelor\n",
    "\n",
    "years = [2111,2011,2010,2012,2015,2020,2014]\n",
    "l = []\n",
    "\n",
    "def hasinput(years):\n",
    "     for i in years:\n",
    "        # print(i)\n",
    "        if i <= (2021 - 8):\n",
    "            return True\n",
    "        return False\n",
    "\n",
    "\n",
    "print(hasinput(years))"
   ]
  },
  {
   "cell_type": "code",
   "execution_count": 15,
   "id": "0f95a81c",
   "metadata": {},
   "outputs": [
    {
     "name": "stdout",
     "output_type": "stream",
     "text": [
      "9\n"
     ]
    }
   ],
   "source": [
    "#Lungimea colectiilor\n",
    "\n",
    "numbers = [10,20,30,40,50,60,70,80,90]\n",
    "\n",
    "i = 0\n",
    "while i in range(0,len(numbers)):\n",
    "      i += 1\n",
    "        \n",
    "print(len(numbers))        "
   ]
  },
  {
   "cell_type": "code",
   "execution_count": 17,
   "id": "68631d5c",
   "metadata": {},
   "outputs": [
    {
     "name": "stdout",
     "output_type": "stream",
     "text": [
      "0\n",
      "1\n",
      "2\n",
      "3\n",
      "4\n",
      "5\n"
     ]
    }
   ],
   "source": [
    "# Indexul elementelor\n",
    "\n",
    "scores = [98,100,56,83,96,100,25,64,29,30,31]\n",
    "i = 0\n",
    "while i<=5:\n",
    "    print(i)\n",
    "    #print (scores[i])\n",
    "    i += 1\n",
    "    "
   ]
  },
  {
   "cell_type": "code",
   "execution_count": 18,
   "id": "126726b0",
   "metadata": {},
   "outputs": [
    {
     "name": "stdout",
     "output_type": "stream",
     "text": [
      "8.8\n"
     ]
    }
   ],
   "source": [
    "#Gasirea minimului \n",
    "\n",
    "temp = [9.0, 8.8, 8.9 , 9.2 , 9.0]\n",
    "\n",
    "def min(numbers, minimum = 99999):\n",
    "    l=[]\n",
    "    for num in numbers:\n",
    "         if num < minimum:\n",
    "             minimum = num\n",
    "\n",
    "    return minimum\n",
    "\n",
    "print(min(temp))"
   ]
  },
  {
   "cell_type": "code",
   "execution_count": 19,
   "id": "0ea5ea56",
   "metadata": {},
   "outputs": [
    {
     "name": "stdout",
     "output_type": "stream",
     "text": [
      "20\n",
      "60\n",
      "15\n",
      "20\n"
     ]
    }
   ],
   "source": [
    "#Iterare in ordine inversa\n",
    "\n",
    "scores = [55,23,48,30,28,23,20,15,60,20]\n",
    "i = 9\n",
    "\n",
    "while i >= 6:\n",
    "    print(scores[i])\n",
    "    i -= 1"
   ]
  },
  {
   "cell_type": "code",
   "execution_count": 21,
   "id": "7555d428",
   "metadata": {},
   "outputs": [
    {
     "name": "stdout",
     "output_type": "stream",
     "text": [
      "90\n",
      "85\n",
      "80\n",
      "50\n",
      "40\n",
      "50\n"
     ]
    }
   ],
   "source": [
    "numbers = [90,85,80,50,40,50]\n",
    "i = 0\n",
    "#print(len(numbers))\n",
    "while i <= (len(numbers)-1):\n",
    "    print(numbers[i])\n",
    "    i += 1"
   ]
  },
  {
   "cell_type": "code",
   "execution_count": 22,
   "id": "db49d145",
   "metadata": {},
   "outputs": [
    {
     "name": "stdout",
     "output_type": "stream",
     "text": [
      "121\n",
      "29.0\n"
     ]
    }
   ],
   "source": [
    "#Operatii de agregare\n",
    "\n",
    "list = [15,30,20,16,22,18]\n",
    "def total(numbers, total=0):\n",
    "    for i in numbers:\n",
    "        total += i\n",
    "    return total\n",
    "\n",
    "print(total(list))\n",
    "\n",
    "list2 = [32,26,28,29,30]\n",
    "def medie(elem, total=0):\n",
    "    for i in elem:\n",
    "        total += i\n",
    "        medie = total/len(elem)\n",
    "    return medie\n",
    "\n",
    "print(medie(list2))\n",
    "list = [ 1990,2005,1997,2002,2010]\n",
    "\n"
   ]
  },
  {
   "cell_type": "code",
   "execution_count": 24,
   "id": "c778c1ea",
   "metadata": {},
   "outputs": [
    {
     "name": "stdout",
     "output_type": "stream",
     "text": [
      "3\n"
     ]
    }
   ],
   "source": [
    "#Operatii de numarare\n",
    "\n",
    "list = [ 1990,2005,1997,2002,2010]\n",
    "\n",
    "def numarare (numbers, numar=0):\n",
    "    for num in numbers:\n",
    "       if (2022-num ) >= 18:\n",
    "            numar +=1\n",
    "    return numar\n",
    "\n",
    "print(numarare(list))"
   ]
  },
  {
   "cell_type": "code",
   "execution_count": null,
   "id": "726606a1",
   "metadata": {},
   "outputs": [],
   "source": [
    "#Operatii repetitive\n",
    "\n",
    "prices = [2000,3000,4000,5000,6000,7000,8000,]\n",
    "\n",
    "for i in prices:\n",
    "    e = i*0.19\n",
    "    print(e)"
   ]
  },
  {
   "cell_type": "code",
   "execution_count": 32,
   "id": "7beb6199",
   "metadata": {},
   "outputs": [
    {
     "name": "stdout",
     "output_type": "stream",
     "text": [
      "35\n"
     ]
    }
   ],
   "source": [
    "#Gasirea valorii cu frecventa cea mai mare\n",
    "varste = [15,20,30,17,24,35,35,35,20,28,40]\n",
    "\n",
    "def vastaceamaifrecventa(ages, i=0):\n",
    "    maxPeoples = 0\n",
    "    mostFrequrntAge = 0\n",
    "    lista = []\n",
    "    while i <=140:\n",
    "        lista.append(0)\n",
    "        i +=1\n",
    "\n",
    "    for age in ages:\n",
    "        lista[age] +=1\n",
    "        if lista[age]> maxPeoples:\n",
    "            maxPeoples = lista[age]\n",
    "            mostFrequrntAge=age\n",
    "\n",
    "    return mostFrequrntAge\n",
    "\n",
    "print(vastaceamaifrecventa(varste))\n"
   ]
  },
  {
   "cell_type": "code",
   "execution_count": 38,
   "id": "b704e9d4",
   "metadata": {},
   "outputs": [
    {
     "name": "stdout",
     "output_type": "stream",
     "text": [
      "441\n"
     ]
    }
   ],
   "source": [
    "#Gasirea diferentei maxime\n",
    "l = [20,56,20,59,10,500]\n",
    "\n",
    "def getMaxdiff(values):\n",
    "    \n",
    "    maxDiff = 0\n",
    "    \n",
    "    values.sort()\n",
    "    \n",
    "    for i in range(0,len(values)-1):\n",
    "        diff = values[i+1]- values[i]\n",
    "        if diff>maxDiff:\n",
    "            maxDiff = diff\n",
    "            \n",
    "    return maxDiff\n",
    "print(getMaxdiff(l))"
   ]
  },
  {
   "cell_type": "code",
   "execution_count": 39,
   "id": "7e1caaa2",
   "metadata": {},
   "outputs": [
    {
     "name": "stdout",
     "output_type": "stream",
     "text": [
      "4.0\n"
     ]
    }
   ],
   "source": [
    "#Gasirea valorii medii\n",
    "valori = [20,21,23,25,19,20,26,2000000,20000]\n",
    "\n",
    "def getAverage(values):\n",
    "    values.sort()\n",
    "    start = 2\n",
    "    end = len(values)-2\n",
    "    suma =0\n",
    "    for index in range(start,end):\n",
    "        suma += values[index]\n",
    "        average = suma/(len(values)-4)\n",
    "        return average\n",
    "    \n",
    "print(getAverage(valori))    "
   ]
  },
  {
   "cell_type": "code",
   "execution_count": 40,
   "id": "70499ea5",
   "metadata": {},
   "outputs": [
    {
     "name": "stdout",
     "output_type": "stream",
     "text": [
      "Maximul din fiecare array  este:110\n",
      "Maximul din fiecare array  este:250\n",
      "Maximul din fiecare array  este:30\n"
     ]
    }
   ],
   "source": [
    "#Gasirea valorii maxime din fiecare array  \n",
    "matrix = [[110,22,100],[100,103,250],[25,30,20]]\n",
    "\n",
    "for arr in range(0,len(matrix)):\n",
    "    max= 0\n",
    "    for attempt in range(0,3):\n",
    "        score = matrix[arr][attempt]\n",
    "        if score>max:\n",
    "            max=score\n",
    "    print(\"Maximul din fiecare array  este:{}\".format(max))"
   ]
  },
  {
   "cell_type": "code",
   "execution_count": 42,
   "id": "22b06293",
   "metadata": {},
   "outputs": [
    {
     "name": "stdout",
     "output_type": "stream",
     "text": [
      "2\n"
     ]
    }
   ],
   "source": [
    "#Gasim cea mai lunga secventa de victorii \n",
    "result = [\"L\",\"W\",\"W\",\"D\"]\n",
    "\n",
    "def hasonlywins(outcomes, left, right):\n",
    "    for index in range(left,right):\n",
    "        if outcomes[index]!=\"W\":\n",
    "            return False\n",
    "    return True\n",
    "\n",
    "def ceamailungasecvdevict(outcomes):\n",
    "    mostwins = 0\n",
    "    for left in range(0,len(outcomes)):\n",
    "        for right in range(left, len(outcomes)):\n",
    "            if hasonlywins(outcomes,left,right):\n",
    "                wins = right - left\n",
    "                if wins > mostwins:\n",
    "                    mostwins=wins\n",
    "\n",
    "    return mostwins\n",
    "print(ceamailungasecvdevict(result))    "
   ]
  },
  {
   "cell_type": "code",
   "execution_count": 43,
   "id": "e7252b35",
   "metadata": {},
   "outputs": [
    {
     "name": "stdout",
     "output_type": "stream",
     "text": [
      "1\n"
     ]
    }
   ],
   "source": [
    "#Gasim diferentei minime absolute\n",
    "def getAbsDiff(numbers):\n",
    "    numbers=sorted(numbers)\n",
    "    min=999999\n",
    "    for i in range(0,len(numbers)-1):\n",
    "        number=numbers[i]\n",
    "        nextNumber=numbers[i+1]\n",
    "        absDiff=abs(nextNumber-number)\n",
    "        if absDiff<min:\n",
    "            min=absDiff\n",
    "    return min\n",
    "\n",
    "print(getAbsDiff([0,-3,5,6,10,20,30,18]))"
   ]
  },
  {
   "cell_type": "code",
   "execution_count": 45,
   "id": "a52bf6aa",
   "metadata": {},
   "outputs": [
    {
     "name": "stdout",
     "output_type": "stream",
     "text": [
      "[0, 2, 4, 5, 6, 7]\n"
     ]
    }
   ],
   "source": [
    "#Gasim si inlaturarea dubloanelor\n",
    "def removeDuplicatesUsingSort(numbers):\n",
    "    sortedNumbers=sorted(numbers)\n",
    "    uniques=[]\n",
    "    for i in range(0,len(sortedNumbers)):\n",
    "        if i is not 0 | sortedNumbers[i-1] is not sortedNumbers[i]:\n",
    "            uniques.append(sortedNumbers[i])\n",
    "    return uniques\n",
    "\n",
    "print(removeDuplicatesUsingSort([0,2,2,4,4,5,6,7]))"
   ]
  },
  {
   "cell_type": "code",
   "execution_count": null,
   "id": "9f606b6c",
   "metadata": {},
   "outputs": [],
   "source": []
  }
 ],
 "metadata": {
  "kernelspec": {
   "display_name": "Python 3",
   "language": "python",
   "name": "python3"
  },
  "language_info": {
   "codemirror_mode": {
    "name": "ipython",
    "version": 3
   },
   "file_extension": ".py",
   "mimetype": "text/x-python",
   "name": "python",
   "nbconvert_exporter": "python",
   "pygments_lexer": "ipython3",
   "version": "3.8.8"
  }
 },
 "nbformat": 4,
 "nbformat_minor": 5
}
