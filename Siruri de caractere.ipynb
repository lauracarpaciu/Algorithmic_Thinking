{
 "cells": [
  {
   "cell_type": "code",
   "execution_count": 3,
   "metadata": {},
   "outputs": [
    {
     "name": "stdout",
     "output_type": "stream",
     "text": [
      "Este un nr de tel valid :None\n"
     ]
    }
   ],
   "source": [
    "# Accesarea caractarelor individuale\n",
    "nrTel = '74568908BCD'\n",
    "\n",
    "def validare(numar):\n",
    "    isValid  = True\n",
    "    list = []\n",
    "    l = [0,1,2,3,4,5,6,7,8,9]\n",
    "    i = 0\n",
    "    \n",
    "    while i in range(0, len(nrTel)):\n",
    "        for n in nrTel:\n",
    "            if n not in l:\n",
    "                isValid = False\n",
    "                \n",
    "                i += 1\n",
    "                \n",
    "print(\"Este un nr de tel valid :{}\".format(validare(nrTel)))    \n",
    "    "
   ]
  },
  {
   "cell_type": "code",
   "execution_count": 4,
   "metadata": {},
   "outputs": [
    {
     "name": "stdout",
     "output_type": "stream",
     "text": [
      "True\n",
      "False\n"
     ]
    }
   ],
   "source": [
    "# Compararea sirurilor de caratere\n",
    "\n",
    "def isDigit(character):\n",
    "    \n",
    "    return \"0\"<= character and character <= '9'\n",
    "\n",
    "def isLetter(character):\n",
    "    \n",
    "    upper = \"A\" <= character and character <= 'Z'\n",
    "    lower =  \"a\" <= character and character <= 'z'\n",
    "    \n",
    "    return upper | lower\n",
    "    \n",
    "\n",
    "print(isDigit(\"5\"))\n",
    "print(isLetter(\"7\"))"
   ]
  },
  {
   "cell_type": "code",
   "execution_count": 9,
   "metadata": {},
   "outputs": [
    {
     "name": "stdout",
     "output_type": "stream",
     "text": [
      "IS\n",
      "CJ\n",
      "B \n",
      "CJ\n",
      "Judetul CJ apare de 2 ori in colectia noastra de siruri de caractere\n"
     ]
    }
   ],
   "source": [
    "# Extragerea sub_sirurilor\n",
    "\n",
    "nrePlacuteinmatriculare = [\"IS 43 ABC\", \"CJ 20 EFG\", \"B 101 EZC\" , \"CJ 30 XYZ\"]\n",
    "\n",
    "i =0\n",
    "l=[]\n",
    "\n",
    "while i in range(0,len(nrePlacuteinmatriculare)):\n",
    "    \n",
    "    for numar in nrePlacuteinmatriculare:\n",
    "        country = numar[0:2]\n",
    "        print(country)\n",
    "        i += 1\n",
    "        if \"CJ\"==country:\n",
    "            l.append(country)\n",
    "print(\"Judetul CJ apare de {} ori in colectia noastra de siruri de caractere\".format(l.count(\"CJ\")))\n"
   ]
  },
  {
   "cell_type": "code",
   "execution_count": null,
   "metadata": {},
   "outputs": [],
   "source": [
    "# Transformarea sirurilor in numere\n",
    "\n",
    "try:\n",
    "    suma = float(input(\"Introduceti suma in lei :\"))\n",
    "    curs  = float(input(\"Introduceti cursul valutar al zilei :\"))\n",
    "    euro= suma/curs\n",
    "    print(\"Valoarea in euro este:{} euro\".format(euro))\n",
    "    \n",
    "except ValueError:\n",
    "    print (\" Could not convert String to int!\")"
   ]
  },
  {
   "cell_type": "code",
   "execution_count": null,
   "metadata": {},
   "outputs": [],
   "source": [
    "# Upper case, lower case\n",
    "\n",
    "destination = \"bUCURESTI\"\n",
    "\n",
    "primaLitera = destination[0]\n",
    "urmatoareleLitere = destination[1:len(destination)]\n",
    "\n",
    "\n",
    "upper=primaLitera.capitalize()\n",
    "lower = urmatoareleLitere.lower()\n",
    "concat = upper + lower\n",
    "print(\"Am rescris stingul destination :{} \".format(concat))\n"
   ]
  },
  {
   "cell_type": "code",
   "execution_count": null,
   "metadata": {},
   "outputs": [],
   "source": [
    "# Utilizarea obiectelor\n",
    "\n",
    "class Person:\n",
    "    \n",
    "  def __init__(self, name, age):\n",
    "    self.name = name\n",
    "    self.age = age\n",
    "\n",
    "p1 = Person(\"Ionescu\", 32)\n",
    "print(p1.name)\n",
    "\n",
    "persons = [\n",
    "  (\n",
    "    \"Ion\",\n",
    "    36\n",
    "  ),\n",
    "    (\"Ion\", 63),\n",
    "    (\"Ion\",29 ),\n",
    "]\n",
    "persons.append( (\"Ion\",26 ))\n",
    "\n",
    "for p in persons:\n",
    "    for i in p:\n",
    "        print(i)\n",
    "    try:\n",
    "        i = int(i)\n",
    "        if i <= 29:\n",
    "            print (\"Ion are varsta :{}\".format(i))\n",
    "    except ValueError:\n",
    "        print(\" Could not convert String to int!\")"
   ]
  },
  {
   "cell_type": "code",
   "execution_count": null,
   "metadata": {},
   "outputs": [],
   "source": [
    "# Reprezentarea binara\n",
    "\n",
    "import json\n",
    "\n",
    "\n",
    "class Person:\n",
    "    def __init__(self, price, name):\n",
    "        self.price = price\n",
    "        self.name = name\n",
    "\n",
    " # set de reguli, format de serializare a datelor - json(java script object notation)\n",
    "# person =Person(\"ionescu\", 2000) - > serializat -> String(format json) -> transmise prin internet, fisiere, hard extern -> obiecte(deserializare)\n",
    "\n",
    "thisdict = [\n",
    "    \n",
    "    { \"brand\": \"Ford\",\n",
    "    \"model\": \"Mustang\",\n",
    "    \"year\": 1964},\n",
    "\n",
    "            {\"brand\": \"Ford\",\n",
    "             \"model\": \"Mustang\",\n",
    "             \"year\": 1964}\n",
    "]\n",
    "\n",
    "print(thisdict)\n",
    "\n",
    "# convert into JSON:\n",
    "y = json.dumps(thisdict)\n",
    "print(\"Serializarea:{}\".format(y))\n",
    "\n",
    "# scriere date intru fisier, dupa serializarea\n",
    "f = open(\"demofile2.txt\", \"a\")\n",
    "f.write(y)\n",
    "f.close()\n",
    "\n",
    "# parse x:\n",
    "x = json.loads(y)\n",
    "print(\"Deserializarea:{}\".format(x))"
   ]
  }
 ],
 "metadata": {
  "kernelspec": {
   "display_name": "Python 3",
   "language": "python",
   "name": "python3"
  },
  "language_info": {
   "codemirror_mode": {
    "name": "ipython",
    "version": 3
   },
   "file_extension": ".py",
   "mimetype": "text/x-python",
   "name": "python",
   "nbconvert_exporter": "python",
   "pygments_lexer": "ipython3",
   "version": "3.8.5"
  }
 },
 "nbformat": 4,
 "nbformat_minor": 4
}
