{
 "cells": [
  {
   "cell_type": "code",
   "execution_count": null,
   "metadata": {},
   "outputs": [],
   "source": [
    "# Adaugarea de elemente\n",
    "\n",
    "l = []\n",
    "i = 1\n",
    "\n",
    "for i in range (1,4):\n",
    "    answer = input(\"What s your age ?\")\n",
    "    l.append(answer)\n",
    "    \n",
    "print(l)    "
   ]
  },
  {
   "cell_type": "code",
   "execution_count": null,
   "metadata": {},
   "outputs": [],
   "source": [
    "# Eliminarea elementelor\n",
    "values = [15,20,-150,25,18,20]\n",
    "valid = []\n",
    "i = 0\n",
    "print(len(values))\n",
    "\n",
    "while i in range (0, len(values)):\n",
    "    \n",
    "    if i != 2:\n",
    "        valid.append(values[i])\n",
    "        i += 1\n",
    "        \n",
    "print(valid)"
   ]
  },
  {
   "cell_type": "code",
   "execution_count": null,
   "metadata": {},
   "outputs": [],
   "source": [
    "# Cautarea elementelor\n",
    "\n",
    "years = [2111,2013,2009,2008,2007,2050]\n",
    "l = []\n",
    "\n",
    "def hasInput(years):\n",
    "    for y in years:\n",
    "        \n",
    "        if y <= (2021 - 8):\n",
    "            return True\n",
    "        \n",
    "        return False\n",
    "    \n",
    "print(hasinput(years))    "
   ]
  },
  {
   "cell_type": "code",
   "execution_count": null,
   "metadata": {},
   "outputs": [],
   "source": [
    "# Cazuri speciale\n",
    "\n",
    "numbers = [90,85,50,50,40,25]\n",
    "\n",
    "i = 0\n",
    "\n",
    "print(len(numbers))\n",
    "\n",
    "while i <=(len(numbers)-1):\n",
    "    print(numbers[i])\n",
    "    i += 1"
   ]
  },
  {
   "cell_type": "code",
   "execution_count": null,
   "metadata": {},
   "outputs": [],
   "source": [
    "# Filtrarea elementelor\n",
    "\n",
    "lista = [25000,18000,1500,2000,2300]\n",
    "\n",
    "def filtrarea (numbers,num=0,list =[]):\n",
    "    \n",
    "    for number in numbers:\n",
    "        if number< 2400:\n",
    "            list.append(number)\n",
    "            \n",
    "            return list\n",
    "        \n",
    "print(filtrare(lista))        "
   ]
  },
  {
   "cell_type": "code",
   "execution_count": null,
   "metadata": {},
   "outputs": [],
   "source": [
    "# Gasirea minimului si maximului\n",
    "\n",
    "temperatura = [9.0,8.8,8.9,9.2,9.0]\n",
    "def min(numbers , minimum = 99999 ):\n",
    "    l = []\n",
    "     for number in numbers:\n",
    "            if number < minimum:\n",
    "                minimum = number\n",
    "                \n",
    "                return minimum\n",
    "            \n",
    "print(min(temperatura))            "
   ]
  },
  {
   "cell_type": "code",
   "execution_count": null,
   "metadata": {},
   "outputs": [],
   "source": [
    "# Indexul elementelor\n",
    "\n",
    "scores = [98,100,56,83,96,100,25,64,29,30,31]\n",
    "\n",
    "i = 0\n",
    "\n",
    "while i < =5:\n",
    "    print(scores[i])\n",
    "    i += 1\n",
    "    "
   ]
  },
  {
   "cell_type": "code",
   "execution_count": null,
   "metadata": {},
   "outputs": [],
   "source": [
    "# Iterare in ordinea inversa\n",
    "\n",
    "scores = [55,23,48,30,28,23,20,15,60,20]\n",
    "i = 9\n",
    "\n",
    "while i >=6:\n",
    "    print(scores[i])\n",
    "    i -= 1\n",
    "    "
   ]
  },
  {
   "cell_type": "code",
   "execution_count": null,
   "metadata": {},
   "outputs": [],
   "source": [
    "# Lungimea colectiei\n",
    "\n",
    "numbers = [10,20,30,40,50,60,70,80,90]\n",
    "i = 0\n",
    "\n",
    "while i in range(0, len(numbers)):\n",
    "    print(numbers[i])\n",
    "    i += 1\n",
    "    \n",
    "    "
   ]
  },
  {
   "cell_type": "code",
   "execution_count": null,
   "metadata": {},
   "outputs": [],
   "source": [
    "# Operatii de agregare\n",
    "\n",
    "list = [15,30,20,16,22,18]\n",
    "\n",
    "def total(numbers, total=0):\n",
    "    for number in numbers:\n",
    "        total += number\n",
    "        \n",
    "        return total\n",
    "    \n",
    "print(total(list)) \n",
    "\n",
    "list2 = [32,26,28,29,30]\n",
    "def medie(elem, total=0):\n",
    "    for i in elem:\n",
    "        total += i\n",
    "        medie = total/len(elem)\n",
    "    return medie\n",
    "\n",
    "print(medie(list2))"
   ]
  },
  {
   "cell_type": "code",
   "execution_count": null,
   "metadata": {},
   "outputs": [],
   "source": [
    "# Operatii de numarare\n",
    "\n",
    "list = [1990,2005,1997,2002,2010]\n",
    "\n",
    "def numarare(numbers, count = 0):\n",
    "    for number in numbers:\n",
    "        if(2022 -number)>18:\n",
    "            count += 1\n",
    "            \n",
    "    return count     \n",
    "\n",
    "print(numarare(list))"
   ]
  },
  {
   "cell_type": "code",
   "execution_count": null,
   "metadata": {},
   "outputs": [],
   "source": [
    "# Operatii repetitive\n",
    "\n",
    "prices = [2000,3000,4000,5000,6000,7000,8000]\n",
    "for price in prices:\n",
    "    e = price*0.19\n",
    "    print(e)"
   ]
  },
  {
   "cell_type": "code",
   "execution_count": null,
   "metadata": {},
   "outputs": [],
   "source": [
    "# Execrcitii de numarare\n",
    "\n",
    "varste = [15,20,30,17,24,30,35,30,20,28,40]\n",
    "def getmostfrequentage(ages,i=0):\n",
    "    \n",
    "    maxPeoples = 0\n",
    "    mostFreqAge = 0\n",
    "    buchets = []\n",
    "    while i <= 140:\n",
    "        buchets.append(0)\n",
    "        i += 1\n",
    "      \n",
    "    for age in ages:\n",
    "    buchets[age] +=1\n",
    "    if buchets[age]> maxPeoples:\n",
    "            maxPeoples = buchets[age]\n",
    "            mostFrequrntAge=age\n",
    "\n",
    "    return mostFrequrntAge\n",
    "\n",
    "print(getmostfrequrntage(varste))\n",
    "        "
   ]
  }
 ],
 "metadata": {
  "kernelspec": {
   "display_name": "Python 3",
   "language": "python",
   "name": "python3"
  },
  "language_info": {
   "codemirror_mode": {
    "name": "ipython",
    "version": 3
   },
   "file_extension": ".py",
   "mimetype": "text/x-python",
   "name": "python",
   "nbconvert_exporter": "python",
   "pygments_lexer": "ipython3",
   "version": "3.8.5"
  }
 },
 "nbformat": 4,
 "nbformat_minor": 4
}
