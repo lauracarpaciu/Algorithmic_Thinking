{
 "cells": [
  {
   "cell_type": "code",
   "execution_count": null,
   "metadata": {},
   "outputs": [],
   "source": [
    "# reprezentarea binara\n",
    "import json\n",
    "\n",
    " # set de reguli, format de serializare a datelor - json(java script object notation)\n",
    "# person =Person(\"ionescu\", 2000) - > serializat -> String(format json) -> transmise prin internet, fisiere, hard extern -> obiecte(deserializare)\n",
    "\n",
    "thisdict = \n",
    "[\n",
    "    { \"brand\": \"Ford\",\n",
    "    \"model\": \"Mustang\",\n",
    "    \"year\": 1964},\n",
    "\n",
    "            {\"brand\": \"Ford\",\n",
    "             \"model\": \"Mustang\",\n",
    "             \"year\": 1964}\n",
    "]\n",
    "\n",
    "print(thisdict)\n",
    "\n",
    "# convert into JSON:\n",
    "y = json.dumps(thisdict)\n",
    "print(\"Serializarea:{}\".format(y))\n",
    "\n",
    "# scriere date intru fisier, dupa serializarea\n",
    "f = open(\"demofile2.txt\", \"a\")\n",
    "f.write(y)\n",
    "f.close()\n",
    "\n",
    "# parse x:\n",
    "x = json.loads(y)\n",
    "print(\"Deserializarea:{}\".format(x))"
   ]
  },
  {
   "cell_type": "code",
   "execution_count": null,
   "metadata": {},
   "outputs": [],
   "source": [
    "# transformarea sirurilor de caractare in numere\n",
    "try:\n",
    "    suma = float(input(\"Introduceti suma in lei :\"))\n",
    "    curs  = float(input(\"Introduceti cursul zilei :\"))\n",
    "    euro= suma/curs\n",
    "    print(\"Valoarea in euro este:{} euro\".format(euro))\n",
    "except ValueError:\n",
    "    print (\" could not convert string to int!\")"
   ]
  },
  {
   "cell_type": "code",
   "execution_count": null,
   "metadata": {},
   "outputs": [],
   "source": [
    "# split,join\n",
    "adresa = \"Romania 0532 Iasi\"\n",
    "adresacomp =adresa.split(\" \")\n",
    "# newadress=adresacomp.join(\",\")\n",
    "# print(newadress)\n",
    "print(adresacomp)\n",
    "print((\"Codul postal este:{}\".format(adresacomp[1])))"
   ]
  },
  {
   "cell_type": "code",
   "execution_count": null,
   "metadata": {},
   "outputs": [],
   "source": [
    "# UPPERCASE,LOWERCASE\n",
    "\n",
    "destination = \"bUCURESTI\"\n",
    "\n",
    "primaLitera = destination[0]\n",
    "urmatoareleLitere = destination[1:len(destination)]\n",
    "\n",
    "\n",
    "upper=primaLitera.capitalize()\n",
    "lower = urmatoareleLitere.lower()\n",
    "concat = upper + lower\n",
    "print(\"Am rescris stingul destination :{} \".format(concat))"
   ]
  },
  {
   "cell_type": "code",
   "execution_count": null,
   "metadata": {},
   "outputs": [],
   "source": [
    "# extragerea subsirurilor\n",
    "numerePlacuteinmatric = [\"IS 43 ABC\", \"CJ 20 EFG\", \"B 101 EZC\" , \"CJ 30 XYZ\"]\n",
    "i =0\n",
    "l=[]\n",
    "while i in range(0,len(numerePlacuteinmatric)):\n",
    "    for n in numerePlacuteinmatric:\n",
    "        country = n[0:2]\n",
    "        print(country)\n",
    "        i += 1\n",
    "        if \"CJ\"==country:\n",
    "            l.append(country)\n",
    "print(\"Numarul judetului CJ este {}\".format(l.count(\"CJ\")))"
   ]
  },
  {
   "cell_type": "code",
   "execution_count": null,
   "metadata": {},
   "outputs": [],
   "source": [
    "# compararea sirurilor de caractere\n",
    "def isDigit(character):\n",
    "    return \"0\" <= character and character <='9'\n",
    "\n",
    "def isLetter(character):\n",
    "    upper = \"A\" <= character and character <= 'Z'\n",
    "    lower =  \"a\" <= character and character <= 'z'\n",
    "    return upper | lower\n",
    "\n",
    "print(isDigit(\"5\"))\n",
    "print(isLetter(\"7\"))\n",
    "# print(\"Pop\"<\"Popa\") ordinea lexicografica"
   ]
  },
  {
   "cell_type": "code",
   "execution_count": null,
   "metadata": {},
   "outputs": [],
   "source": [
    "# accesarea caracterelor individuale\n",
    "nrTel = \"74562308BCD\"\n",
    "\n",
    "def validare(numar):\n",
    "    isVALID = True\n",
    "    list=[]\n",
    "    l = [0,1,2,3,4,5,6,7,8,9]\n",
    "    i =0\n",
    "    while i in range(0,len(nrTel)):\n",
    "        for n in nrTel :\n",
    "            if n not in l:\n",
    "                isvALID = False\n",
    "\n",
    "            i += 1\n",
    "print(\"Este un nr de tel valid :{}\".format(validare(nrTel)))"
   ]
  },
  {
   "cell_type": "code",
   "execution_count": null,
   "metadata": {},
   "outputs": [],
   "source": [
    "# utilizarea obiectelor\n",
    "# nume = [\"Popescu\",\"Georgescu\",\"Ioescu\"]\n",
    "# ages = [26,35,29]\n",
    "\n",
    "class Person:\n",
    "  def __init__(self, name, age):\n",
    "    self.name = name\n",
    "    self.age = age\n",
    "\n",
    "p1 = Person(\"Ionescu\", 32)\n",
    "print(p1.name)\n",
    "\n",
    "persons = [\n",
    "  (\n",
    "    \"Ion\",\n",
    "    36\n",
    "  ),\n",
    "    (\"Ion\", 63),\n",
    "    (\"Ion\",29 ),\n",
    "]\n",
    "persons.append( (\"Ion\",26 ))\n",
    "\n",
    "for p in persons:\n",
    "    for i in p:\n",
    "        print(i)\n",
    "    try:\n",
    "        i = int(i)\n",
    "        if i <= 29:\n",
    "            print (\"Ion are varsta :{}\".format(i))\n",
    "    except ValueError:\n",
    "        print(\" could not convert string to int!\")"
   ]
  }
 ],
 "metadata": {
  "kernelspec": {
   "display_name": "Python 3",
   "language": "python",
   "name": "python3"
  },
  "language_info": {
   "codemirror_mode": {
    "name": "ipython",
    "version": 3
   },
   "file_extension": ".py",
   "mimetype": "text/x-python",
   "name": "python",
   "nbconvert_exporter": "python",
   "pygments_lexer": "ipython3",
   "version": "3.8.5"
  }
 },
 "nbformat": 4,
 "nbformat_minor": 4
}
