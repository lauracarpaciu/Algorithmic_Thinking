{
 "cells": [
  {
   "cell_type": "code",
   "execution_count": null,
   "metadata": {},
   "outputs": [],
   "source": [
    "import math\n",
    "\n",
    "\n",
    "def recursiveBinarySearch(x,sortedArray,start,end):\n",
    "    if start > end:\n",
    "        return False\n",
    "\n",
    "    middle = int((start+end)/2)\n",
    "\n",
    "    if x == sortedArray[middle]:\n",
    "        return True\n",
    "\n",
    "    if x> sortedArray[middle]:\n",
    "        return recursiveBinarySearch(x,sortedArray,middle+1,end)\n",
    "    else:\n",
    "        recursiveBinarySearch(x,sortedArray,start,middle-1)\n",
    "\n",
    "\n",
    "print(recursiveBinarySearch(10,[10,20,30,40,50],0,4))\n",
    "\n",
    "def recursiveLog(value):\n",
    "\n",
    "    if value <= 1:\n",
    "        return 1\n",
    "    return 1 + recursiveLog(math.floor(value/2))\n",
    "\n",
    "\n",
    "print(recursiveLog(100))"
   ]
  },
  {
   "cell_type": "code",
   "execution_count": null,
   "metadata": {},
   "outputs": [],
   "source": [
    "result = [\"L\",\"W\",\"W\",\"D\"]\n",
    "\n",
    "def hasonlywins(outcomes, left, right):\n",
    "    for index in range(left,right):\n",
    "        if outcomes[index]!=\"W\":\n",
    "            return False\n",
    "    return True\n",
    "\n",
    "def ceamailungasecvdevict(outcomes):\n",
    "    mostwins = 0\n",
    "    for left in range(0,len(outcomes)):\n",
    "        for right in range(left, len(outcomes)):\n",
    "            if hasonlywins(outcomes,left,right):\n",
    "                wins = right - left\n",
    "                if wins > mostwins:\n",
    "                    mostwins=wins\n",
    "\n",
    "    return mostwins\n"
   ]
  },
  {
   "cell_type": "code",
   "execution_count": null,
   "metadata": {},
   "outputs": [],
   "source": [
    "matrix = [[110,22,100],[100,103,250],[25,30,20]]\n",
    "\n",
    "for arr in range(0,len(matrix)):\n",
    "    max= 0\n",
    "    for attempt in range(0,3):\n",
    "        score = matrix[arr][attempt]\n",
    "        if score>max:\n",
    "            max=score\n",
    "    print(\"Maximul din fiecare array  este:{}\".format(max))\n",
    "\n"
   ]
  },
  {
   "cell_type": "code",
   "execution_count": null,
   "metadata": {},
   "outputs": [],
   "source": [
    "l = [20,56,20,59,10,500]\n",
    "\n",
    "def getmaxdiff(values):\n",
    "    \n",
    "    maxDiff = 0\n",
    "    \n",
    "    values.sort()\n",
    "    \n",
    "    for i in range(0,len(values)-1):\n",
    "        diff = values[i+1]- values[i]\n",
    "        if diff>maxDiff:\n",
    "            maxDiff = diff\n",
    "    return maxDiff\n"
   ]
  },
  {
   "cell_type": "code",
   "execution_count": null,
   "metadata": {},
   "outputs": [],
   "source": [
    "valori = [20,21,23,25,19,20,26,2000000,20000]\n",
    "\n",
    "def getaverage(values):\n",
    "    values.sort()\n",
    "    start = 2\n",
    "    end = len(values)-2\n",
    "    suma =0\n",
    "    for index in range(start,end):\n",
    "        suma += values[index]\n",
    "        average = suma/(len(values)-4)\n",
    "        return average\n",
    "\n"
   ]
  },
  {
   "cell_type": "code",
   "execution_count": null,
   "metadata": {},
   "outputs": [],
   "source": [
    "people = [\n",
    "{\n",
    "  \"brand\": \"Ford\",\n",
    "  \"model\": \"Mustang\",\n",
    "  \"year\": 1964\n",
    "},\n",
    "\n",
    "{\n",
    "  \"brand\": \"Ford\",\n",
    "  \"model\": \"Mustang\",\n",
    "  \"year\": 1964\n",
    "}\n",
    "]\n",
    "\n",
    "\n",
    "def compareByAgeAscend(personA,personB):\n",
    "    if personA.year < personB.year:\n",
    "        return -1\n",
    "    if personA.year == personB.year:\n",
    "        return 0\n",
    "\n",
    "    if personA.year > personB.year:\n",
    "        return 1\n",
    "\n",
    "\n",
    "print(people.sort(compareByAgeAscend))\n",
    "\n",
    "arr =[12,10,13,20,22]\n",
    "\n",
    "def comparareNumere(numA,numB):\n",
    "    return numA-numB\n",
    "\n",
    "print(arr.sort(comparareNumere))"
   ]
  }
 ],
 "metadata": {
  "kernelspec": {
   "display_name": "Python 3",
   "language": "python",
   "name": "python3"
  },
  "language_info": {
   "codemirror_mode": {
    "name": "ipython",
    "version": 3
   },
   "file_extension": ".py",
   "mimetype": "text/x-python",
   "name": "python",
   "nbconvert_exporter": "python",
   "pygments_lexer": "ipython3",
   "version": "3.8.5"
  }
 },
 "nbformat": 4,
 "nbformat_minor": 4
}
