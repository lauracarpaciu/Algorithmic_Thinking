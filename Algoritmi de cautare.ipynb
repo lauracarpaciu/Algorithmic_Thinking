{
 "cells": [
  {
   "cell_type": "code",
   "execution_count": null,
   "metadata": {},
   "outputs": [],
   "source": [
    "l = [20,56,20,59,10,500]\n",
    "\n",
    "def getMaxdiff(values):\n",
    "    \n",
    "    maxDiff = 0\n",
    "    \n",
    "    values.sort()\n",
    "    \n",
    "    for i in range(0,len(values)-1):\n",
    "        diff = values[i+1]- values[i]\n",
    "        if diff>maxDiff:\n",
    "            maxDiff = diff\n",
    "            \n",
    "    return maxDiff\n"
   ]
  },
  {
   "cell_type": "code",
   "execution_count": null,
   "metadata": {},
   "outputs": [],
   "source": [
    "valori = [20,21,23,25,19,20,26,2000000,20000]\n",
    "\n",
    "def getAverage(values):\n",
    "    values.sort()\n",
    "    start = 2\n",
    "    end = len(values)-2\n",
    "    suma =0\n",
    "    for index in range(start,end):\n",
    "        suma += values[index]\n",
    "        average = suma/(len(values)-4)\n",
    "        return average"
   ]
  },
  {
   "cell_type": "code",
   "execution_count": null,
   "metadata": {},
   "outputs": [],
   "source": [
    "matrix = [[110,22,100],[100,103,250],[25,30,20]]\n",
    "\n",
    "for arr in range(0,len(matrix)):\n",
    "    max= 0\n",
    "    for attempt in range(0,3):\n",
    "        score = matrix[arr][attempt]\n",
    "        if score>max:\n",
    "            max=score\n",
    "    print(\"Maximul din fiecare array  este:{}\".format(max))"
   ]
  },
  {
   "cell_type": "code",
   "execution_count": null,
   "metadata": {},
   "outputs": [],
   "source": [
    "result = [\"L\",\"W\",\"W\",\"D\"]\n",
    "\n",
    "def hasonlywins(outcomes, left, right):\n",
    "    for index in range(left,right):\n",
    "        if outcomes[index]!=\"W\":\n",
    "            return False\n",
    "    return True\n",
    "\n",
    "def ceamailungasecvdevict(outcomes):\n",
    "    mostwins = 0\n",
    "    for left in range(0,len(outcomes)):\n",
    "        for right in range(left, len(outcomes)):\n",
    "            if hasonlywins(outcomes,left,right):\n",
    "                wins = right - left\n",
    "                if wins > mostwins:\n",
    "                    mostwins=wins\n",
    "\n",
    "    return mostwins"
   ]
  },
  {
   "cell_type": "code",
   "execution_count": null,
   "metadata": {},
   "outputs": [],
   "source": [
    "import math\n",
    "\n",
    "\n",
    "def recursiveBinarySearch(x,sortedArray,start,end):\n",
    "    if start > end:\n",
    "        return False\n",
    "\n",
    "    middle = int((start+end)/2)\n",
    "\n",
    "    if x == sortedArray[middle]:\n",
    "        return True\n",
    "\n",
    "    if x> sortedArray[middle]:\n",
    "        return recursiveBinarySearch(x,sortedArray,middle+1,end)\n",
    "    else:\n",
    "        recursiveBinarySearch(x,sortedArray,start,middle-1)\n",
    "\n",
    "\n",
    "print(recursiveBinarySearch(10,[10,20,30,40,50],0,4))\n",
    "\n",
    "def recursiveLog(value):\n",
    "\n",
    "    if value <= 1:\n",
    "        return 1\n",
    "    return 1 + recursiveLog(math.floor(value/2))\n",
    "\n",
    "\n",
    "print(recursiveLog(100))"
   ]
  },
  {
   "cell_type": "code",
   "execution_count": null,
   "metadata": {},
   "outputs": [],
   "source": [
    "def removeDuplicateswithHashTable(numbers):\n",
    "\n",
    "    uniques=[]\n",
    "    hashTable={}\n",
    "    for number in numbers:\n",
    "        if hashTable.get(number)==None:\n",
    "            uniques.append(number)\n",
    "            hashTable[number]=True\n",
    "    return hashTable\n",
    "\n",
    "\n",
    "print(removeDuplicateswithHashTable([0,2,2,4,4,5,6,7]))"
   ]
  },
  {
   "cell_type": "code",
   "execution_count": null,
   "metadata": {},
   "outputs": [],
   "source": [
    "def removeDuplicatesUsingSort(numbers):\n",
    "    sortedNumbers=sorted(numbers)\n",
    "    uniques=[]\n",
    "    for i in range(0,len(sortedNumbers)):\n",
    "        if i is not 0 | sortedNumbers[i-1] is not sortedNumbers[i]:\n",
    "            uniques.append(sortedNumbers[i])\n",
    "    return uniques\n",
    "\n",
    "print(removeDuplicatesUsingSort([0,2,2,4,4,5,6,7]))"
   ]
  },
  {
   "cell_type": "code",
   "execution_count": null,
   "metadata": {},
   "outputs": [],
   "source": [
    "def getAbsDiff(numbers):\n",
    "    numbers=sorted(numbers)\n",
    "    min=999999\n",
    "    for i in range(0,len(numbers)-1):\n",
    "        number=numbers[i]\n",
    "        nextNumber=numbers[i+1]\n",
    "        absDiff=abs(nextNumber-number)\n",
    "        if absDiff<min:\n",
    "            min=absDiff\n",
    "    return min\n",
    "\n",
    "print(getAbsDiff([0,-3,5,6,10,20,30,18]))"
   ]
  }
 ],
 "metadata": {
  "kernelspec": {
   "display_name": "Python 3",
   "language": "python",
   "name": "python3"
  },
  "language_info": {
   "codemirror_mode": {
    "name": "ipython",
    "version": 3
   },
   "file_extension": ".py",
   "mimetype": "text/x-python",
   "name": "python",
   "nbconvert_exporter": "python",
   "pygments_lexer": "ipython3",
   "version": "3.8.5"
  }
 },
 "nbformat": 4,
 "nbformat_minor": 4
}
