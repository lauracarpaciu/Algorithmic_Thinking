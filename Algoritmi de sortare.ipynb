{
 "cells": [
  {
   "cell_type": "code",
   "execution_count": 11,
   "metadata": {},
   "outputs": [],
   "source": [
    "# Bubble sort\n"
   ]
  },
  {
   "cell_type": "code",
   "execution_count": 15,
   "metadata": {},
   "outputs": [],
   "source": [
    "def bubblesort(numbers):\n",
    "    notSortedyet = True\n",
    "\n",
    "    while notSortedyet:\n",
    "        notSortedyet = False\n",
    "        swaps = 0\n",
    "    \n",
    "        for i in range(0,(len(numbers)-1)):\n",
    "            if numbers[i]> numbers[i+1]:\n",
    "                aux = numbers[i]\n",
    "                numbers[i]=numbers[i+1]\n",
    "                numbers[i+1]=aux\n",
    "                swaps += 1\n",
    "                \n",
    "                if(swaps>0):\n",
    "                    notSortedyet = True"
   ]
  },
  {
   "cell_type": "code",
   "execution_count": 16,
   "metadata": {},
   "outputs": [],
   "source": [
    "numbers = [2,8,5,9,7,6]\n",
    "bubblesort(numbers)"
   ]
  },
  {
   "cell_type": "code",
   "execution_count": 23,
   "metadata": {},
   "outputs": [
    {
     "name": "stdout",
     "output_type": "stream",
     "text": [
      "Numbers collection after bubblesort algorithm :[2, 5, 6, 7, 8, 9]\n"
     ]
    }
   ],
   "source": [
    "print(\"Numbers collection after bubblesort algorithm :{}\".format(numbers))"
   ]
  },
  {
   "cell_type": "code",
   "execution_count": 24,
   "metadata": {},
   "outputs": [],
   "source": [
    "# HasOnlywins"
   ]
  },
  {
   "cell_type": "code",
   "execution_count": 29,
   "metadata": {},
   "outputs": [],
   "source": [
    "def hasOnlywins(outcomes,left,right):\n",
    "\n",
    "    for index in range(left,right):\n",
    "        if outcomes[index]!=\"W\":\n",
    "            return False\n",
    "    \n",
    "    return True\n",
    "\n",
    "def themostwidevictorysequence(outcomes):\n",
    "    mostwins = 0\n",
    "    \n",
    "    for left in range (0, len(outcomes)):\n",
    "        for right in range (left, len(outcomes)):\n",
    "            if hasOnlywins(outcomes,left,right):\n",
    "                wins = right - left\n",
    "                if wins > mostwins:\n",
    "                    mostwins = wins\n",
    "                    \n",
    "    return mostwins               \n",
    "            \n",
    "        "
   ]
  },
  {
   "cell_type": "code",
   "execution_count": 30,
   "metadata": {},
   "outputs": [
    {
     "name": "stdout",
     "output_type": "stream",
     "text": [
      "Cea mai lunga secventa de victorii:4\n"
     ]
    }
   ],
   "source": [
    "result = [\"L\",\"W\",\"W\",\"W\",\"W\",\"D\"]\n",
    "print(\"Cea mai lunga secventa de victorii:{}\".format(themostwidevictorysequence(result)))"
   ]
  },
  {
   "cell_type": "code",
   "execution_count": null,
   "metadata": {},
   "outputs": [],
   "source": [
    "# Colectii multidimensionale\n"
   ]
  },
  {
   "cell_type": "code",
   "execution_count": 37,
   "metadata": {},
   "outputs": [
    {
     "name": "stdout",
     "output_type": "stream",
     "text": [
      "Max value from each array of the matrix:110\n",
      "Max value from each array of the matrix:250\n",
      "Max value from each array of the matrix:30\n",
      "Max value from each array of the matrix:30\n",
      "Max value from each array of the matrix:31\n"
     ]
    }
   ],
   "source": [
    "matrix = [[110,22,100],[100,103,250],[25,30,22],[27,29,30],[30,26,31]]\n",
    "\n",
    "for arr in range(0,len(matrix)):\n",
    "    max = 0\n",
    "    \n",
    "    for attempt in range(0,3):\n",
    "        score = matrix[arr][attempt]\n",
    "        \n",
    "        if score > max :\n",
    "            max = score\n",
    "    print(\"Max value from each array of the matrix:{}\".format(max))        \n",
    "            \n",
    "            "
   ]
  },
  {
   "cell_type": "code",
   "execution_count": 39,
   "metadata": {},
   "outputs": [
    {
     "name": "stdout",
     "output_type": "stream",
     "text": [
      "441\n"
     ]
    }
   ],
   "source": [
    "# Diferenta maxima\n",
    "\n",
    "def getMaxdiff(values):\n",
    "    \n",
    "    maxDiff = 0\n",
    "    values.sort()\n",
    "    \n",
    "    for i in range (0,len(values)-1):\n",
    "        \n",
    "        diff = values[i+1]-values[i]\n",
    "        if diff >maxDiff:\n",
    "            maxDiff = diff\n",
    "    return maxDiff  \n",
    "\n",
    "print(getMaxdiff([20,56,20,59,10,500]))"
   ]
  },
  {
   "cell_type": "code",
   "execution_count": 42,
   "metadata": {},
   "outputs": [
    {
     "name": "stdout",
     "output_type": "stream",
     "text": [
      "4.0\n"
     ]
    }
   ],
   "source": [
    "# Eliminarea outlierilor din datele statistice\n",
    "\n",
    "def getaverage(values):\n",
    "    values.sort()\n",
    "    start = 2\n",
    "    end = len(values)-2\n",
    "    suma = 0\n",
    "    \n",
    "    for index in range(start, end):\n",
    "        suma += values[index]\n",
    "        average = suma / (len(values) -4)\n",
    "        return average\n",
    "    \n",
    "    \n",
    "values = [20,21,23,25,19,20,26,2000000,20000]\n",
    "print(getaverage(values))\n"
   ]
  },
  {
   "cell_type": "code",
   "execution_count": 48,
   "metadata": {},
   "outputs": [
    {
     "ename": "IndexError",
     "evalue": "list assignment index out of range",
     "output_type": "error",
     "traceback": [
      "\u001b[1;31m---------------------------------------------------------------------------\u001b[0m",
      "\u001b[1;31mIndexError\u001b[0m                                Traceback (most recent call last)",
      "\u001b[1;32m<ipython-input-48-2af241c01a30>\u001b[0m in \u001b[0;36m<module>\u001b[1;34m\u001b[0m\n\u001b[0;32m     29\u001b[0m \u001b[1;33m\u001b[0m\u001b[0m\n\u001b[0;32m     30\u001b[0m \u001b[0mnumbers\u001b[0m \u001b[1;33m=\u001b[0m\u001b[1;33m[\u001b[0m\u001b[1;36m20\u001b[0m\u001b[1;33m,\u001b[0m\u001b[1;36m56\u001b[0m\u001b[1;33m,\u001b[0m\u001b[1;36m23\u001b[0m\u001b[1;33m,\u001b[0m\u001b[1;36m1\u001b[0m\u001b[1;33m]\u001b[0m\u001b[1;33m\u001b[0m\u001b[1;33m\u001b[0m\u001b[0m\n\u001b[1;32m---> 31\u001b[1;33m \u001b[0minsertationSort\u001b[0m\u001b[1;33m(\u001b[0m\u001b[0mnumbers\u001b[0m\u001b[1;33m)\u001b[0m\u001b[1;33m\u001b[0m\u001b[1;33m\u001b[0m\u001b[0m\n\u001b[0m\u001b[0;32m     32\u001b[0m \u001b[0mprint\u001b[0m\u001b[1;33m(\u001b[0m\u001b[0minsertationSort\u001b[0m\u001b[1;33m(\u001b[0m\u001b[0mnumbers\u001b[0m\u001b[1;33m)\u001b[0m\u001b[1;33m)\u001b[0m\u001b[1;33m\u001b[0m\u001b[1;33m\u001b[0m\u001b[0m\n",
      "\u001b[1;32m<ipython-input-48-2af241c01a30>\u001b[0m in \u001b[0;36minsertationSort\u001b[1;34m(numbers)\u001b[0m\n\u001b[0;32m     24\u001b[0m         \u001b[0mpos\u001b[0m \u001b[1;33m=\u001b[0m \u001b[0mgetInsertationPosition\u001b[0m\u001b[1;33m(\u001b[0m\u001b[0mnumber\u001b[0m\u001b[1;33m,\u001b[0m\u001b[0msortedArr\u001b[0m\u001b[1;33m)\u001b[0m\u001b[1;33m\u001b[0m\u001b[1;33m\u001b[0m\u001b[0m\n\u001b[0;32m     25\u001b[0m \u001b[1;33m\u001b[0m\u001b[0m\n\u001b[1;32m---> 26\u001b[1;33m         \u001b[0msortedArr\u001b[0m\u001b[1;33m[\u001b[0m\u001b[0mpos\u001b[0m\u001b[1;33m]\u001b[0m\u001b[1;33m=\u001b[0m\u001b[0mnumber\u001b[0m\u001b[1;33m\u001b[0m\u001b[1;33m\u001b[0m\u001b[0m\n\u001b[0m\u001b[0;32m     27\u001b[0m \u001b[1;33m\u001b[0m\u001b[0m\n\u001b[0;32m     28\u001b[0m         \u001b[1;32mreturn\u001b[0m \u001b[0msortedArr\u001b[0m\u001b[1;33m\u001b[0m\u001b[1;33m\u001b[0m\u001b[0m\n",
      "\u001b[1;31mIndexError\u001b[0m: list assignment index out of range"
     ]
    }
   ],
   "source": [
    "# Insertation sort\n",
    "\n",
    "def getInsertationPosition(elem,arr):\n",
    "    \n",
    "    if len(arr)==0:\n",
    "        return 0\n",
    "    \n",
    "    for i in range (0, len(arr)):\n",
    "        \n",
    "        if elem <= arr[i]:\n",
    "            \n",
    "            return i \n",
    "        \n",
    "    return len(arr)-1\n",
    "    \n",
    "def moveItemtotheRight(arr,start):\n",
    "    for i in range(len(arr), -1):\n",
    "        print(i)\n",
    "        \n",
    "        \n",
    "def insertationSort(numbers):\n",
    "    sortedArr = []\n",
    "    for number in numbers:\n",
    "        pos = getInsertationPosition(number,sortedArr)\n",
    "        \n",
    "        sortedArr[pos]=number\n",
    "        \n",
    "        return sortedArr\n",
    "    \n",
    "numbers =[20,56,23,1]\n",
    "insertationSort(numbers)\n",
    "print(insertationSort(numbers))        "
   ]
  },
  {
   "cell_type": "code",
   "execution_count": 56,
   "metadata": {},
   "outputs": [
    {
     "name": "stdout",
     "output_type": "stream",
     "text": [
      "455\n",
      "965432\n",
      "2356999\n"
     ]
    }
   ],
   "source": [
    "# Puzzle\n",
    "import math\n",
    "\n",
    "def extractdigit(numar):\n",
    "    digits = []\n",
    "    while numar>0:\n",
    "        lastDigit = numar%10\n",
    "        numar = math.floor(numar/10)\n",
    "        digits.append(lastDigit)\n",
    "    return digits\n",
    "\n",
    "def mergeDigits(digits):\n",
    "    numarulformat =0\n",
    "    for digit in digits:\n",
    "        numarulformat =numarulformat*10+digit\n",
    "\n",
    "    return numarulformat\n",
    "\n",
    "def getnumber(numar):\n",
    "    digits = extractdigit(numar)\n",
    "    digits.sort()\n",
    "    maxDigit=mergeDigits(digits)\n",
    "    return maxDigit\n",
    "print(mergeDigits([4,3,25]))\n",
    "\n",
    "print(mergeDigits(extractdigit(234569)))\n",
    "numar = 2356999\n",
    "print(getnumber(numar))\n"
   ]
  },
  {
   "cell_type": "code",
   "execution_count": 57,
   "metadata": {},
   "outputs": [
    {
     "name": "stdout",
     "output_type": "stream",
     "text": [
      "Colectie de numere nesortate:[25, 2, 8, -6, 4, 3, 2]\n",
      "Colectie de numere dupa aplicarea algoritmului de sortare:[-6, 2, 2, 3, 4, 8, 25]\n"
     ]
    }
   ],
   "source": [
    "# Selection sort\n",
    "\n",
    "def sort(numbers):\n",
    "    \n",
    "    for i in range(0, len(numbers)):\n",
    "        for j in range (i +1 , len(numbers)):\n",
    "            if numbers[i]> numbers[j]:\n",
    "                aux = numbers[i]\n",
    "                numbers[i]=numbers[j]\n",
    "                numbers[j]=aux\n",
    "                \n",
    "numbers = [25,2,8,-6,4,3,2]\n",
    "print(\"Colectie de numere nesortate:{}\".format(numbers))\n",
    "sort(numbers)\n",
    "print(\"Colectie de numere dupa aplicarea algoritmului de sortare:{}\".format(numbers))                "
   ]
  },
  {
   "cell_type": "code",
   "execution_count": null,
   "metadata": {},
   "outputs": [],
   "source": []
  }
 ],
 "metadata": {
  "kernelspec": {
   "display_name": "Python 3",
   "language": "python",
   "name": "python3"
  },
  "language_info": {
   "codemirror_mode": {
    "name": "ipython",
    "version": 3
   },
   "file_extension": ".py",
   "mimetype": "text/x-python",
   "name": "python",
   "nbconvert_exporter": "python",
   "pygments_lexer": "ipython3",
   "version": "3.8.5"
  }
 },
 "nbformat": 4,
 "nbformat_minor": 4
}
